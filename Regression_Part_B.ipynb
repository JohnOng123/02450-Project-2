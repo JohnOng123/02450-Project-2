{
 "cells": [
  {
   "cell_type": "markdown",
   "metadata": {},
   "source": [
    "# 02450 Project 2\n"
   ]
  },
  {
   "cell_type": "markdown",
   "metadata": {},
   "source": [
    "The primary goal of Project 2 is to apply supervised learning techniques (regression and classification) to predict properties or classifications of wood based on the cleaned and scaled dataset from Project 1."
   ]
  },
  {
   "cell_type": "code",
   "execution_count": 196,
   "metadata": {},
   "outputs": [],
   "source": [
    "import os\n",
    "import numpy as np\n",
    "import glob\n",
    "import PIL.Image as Image\n",
    "from tqdm.notebook import tqdm\n",
    "import xlrd\n",
    "import scipy\n",
    "from scipy.linalg import svd\n",
    "\n",
    "import torch\n",
    "import torch.nn as nn\n",
    "import torch.optim as optim\n",
    "import torch.nn.functional as F\n",
    "import torchvision.datasets as datasets\n",
    "from torch.utils.data import DataLoader\n",
    "import torchvision.transforms as transforms\n",
    "import matplotlib.pyplot as plt\n",
    "from sklearn.decomposition import PCA\n",
    "from sklearn.preprocessing import StandardScaler\n",
    "import pandas as pd\n",
    "\n",
    "\n",
    "from sklearn.tree import DecisionTreeClassifier\n",
    "from sklearn.model_selection import KFold\n",
    "from sklearn.metrics import mean_squared_error\n",
    "from sklearn.linear_model import Ridge\n",
    "from sklearn.model_selection import train_test_split\n"
   ]
  },
  {
   "cell_type": "markdown",
   "metadata": {},
   "source": [
    "### Cleaned and Scaled Data from Project 1"
   ]
  },
  {
   "cell_type": "code",
   "execution_count": null,
   "metadata": {},
   "outputs": [],
   "source": [
    "\n",
    "# Load the data\n",
    "data = pd.read_csv('C:/Users/ongji/OneDrive/Documents/DTU/02450 Introduction to Machine Learning and Data Mining/02450-Project-1/usa_wood_data_formatted.csv')\n",
    "\n",
    "# Clean data\n",
    "removed_columns = ['side_hardness','tension_perpendicular_to_grain','impact_bending']\n",
    "data_cleaned = data.drop(columns=removed_columns).dropna()\n",
    "print(data_cleaned.head())\n",
    "\n",
    "# Select the target variable and features\n",
    "target_variable = 'specific_gravity'\n",
    "X = data_cleaned.drop(columns=[target_variable])\n",
    "y = data_cleaned[target_variable].values\n",
    "X_num = X.iloc[:, 6:]   # numerical features\n",
    "\n",
    "# Split the data\n",
    "X_train, X_test, y_train, y_test = train_test_split(X_num, y, test_size=0.2, random_state=42)\n",
    "\n",
    "# Scale the features\n",
    "feature_scaler = StandardScaler()\n",
    "X_train_scaled = feature_scaler.fit_transform(X_train)\n",
    "X_test_scaled = feature_scaler.transform(X_test)\n",
    "\n",
    "# Scale the target\n",
    "target_scaler = StandardScaler()\n",
    "y_train_scaled = target_scaler.fit_transform(y_train.reshape(-1, 1))\n",
    "y_test_scaled = target_scaler.transform(y_test.reshape(-1, 1))\n",
    "\n",
    "X_train_tensor = torch.FloatTensor(X_train_scaled)\n",
    "y_train_tensor = torch.FloatTensor(y_train_scaled)\n",
    "X_test_tensor = torch.FloatTensor(X_test_scaled)\n",
    "y_test_tensor = torch.FloatTensor(y_test_scaled)\n",
    "\n",
    "\n"
   ]
  },
  {
   "cell_type": "code",
   "execution_count": 219,
   "metadata": {},
   "outputs": [],
   "source": [
    "# import pandas as pd\n",
    "\n",
    "# # Drop columns with significant missing values\n",
    "# removed_columns = ['side_hardness', 'tension_perpendicular_to_grain', 'impact_bending']\n",
    "# data_cleaned = data.drop(columns=removed_columns).dropna()\n",
    "\n",
    "# # One-hot encode categorical variables\n",
    "# categorical_columns = ['classification', 'moisture_content']\n",
    "# data_encoded = pd.get_dummies(data_cleaned, columns=categorical_columns)\n",
    "\n",
    "# # Identify and remove the target attribute and other irrelevant attributes\n",
    "# target_variable = 'specific_gravity'\n",
    "# X = data_encoded.drop(columns=[target_variable])\n",
    "# X = X.drop(columns=['common_species_name','genus','species','scientific_name'])\n",
    "# y = data_encoded[target_variable].values\n",
    "# #print(X.head())\n",
    "\n",
    "\n",
    "# continuous_features = X.iloc[:, :6] \n",
    "# categorical_features = X.iloc[:, 6:]\n",
    "\n",
    "\n",
    "# # Standardize features\n",
    "# scaler = StandardScaler()\n",
    "# continuous_features_scaled = scaler.fit_transform(continuous_features)\n",
    "# attributeNames = X.columns\n",
    "\n",
    "# # Combine back the scaled continuous features with the categorical\n",
    "# X_scaled = np.concatenate([continuous_features_scaled, categorical_features.values], axis=1)\n",
    "# attributeNames = list(continuous_features.columns) + list(categorical_features.columns)\n",
    "\n",
    "# # Reconstruct DataFrame\n",
    "# X_scaled_df = pd.DataFrame(X_scaled, columns=attributeNames)\n",
    "\n",
    "# print(\"Standardized Features:\")\n",
    "# print(X_scaled_df.head())\n"
   ]
  },
  {
   "cell_type": "code",
   "execution_count": null,
   "metadata": {},
   "outputs": [
    {
     "name": "stdout",
     "output_type": "stream",
     "text": [
      "['modulus_of_rupture', 'modulus_of_elasticity', 'work_to_maximum_load', 'compression_parallel_to_grain', 'compression_perpendicular_to_grain', 'shear_parallel_to_grain', 'classification_Hardwood', 'classification_Softwood', 'moisture_content_12%', 'moisture_content_Green']\n"
     ]
    }
   ],
   "source": [
    "# Preprocessing of Data\n",
    "\n",
    "# Drop columns with significant missing values and irrelevant columns\n",
    "removed_columns = ['side_hardness', 'tension_perpendicular_to_grain', 'impact_bending','common_species_name', 'genus', 'species', 'scientific_name']\n",
    "data_cleaned = data.drop(columns=removed_columns).dropna()\n",
    "\n",
    "# one-hot encoding\n",
    "categorical_columns = ['classification', 'moisture_content']\n",
    "data_encoded = pd.get_dummies(data_cleaned, columns=categorical_columns)\n",
    "\n",
    "# Target attribute\n",
    "target_variable = 'specific_gravity'\n",
    "X = data_encoded.drop(columns=[target_variable])\n",
    "y = data_encoded[target_variable].values\n",
    "\n",
    "# Split data into test/train\n",
    "X_train, X_test, y_train, y_test = train_test_split(X, y, test_size=0.2, random_state=42)\n",
    "#print(X_train)\n",
    "\n",
    "# Identify continuous and categorical features\n",
    "continuous_features_train = X_train.iloc[:, :6]  \n",
    "continuous_features_test = X_test.iloc[:, :6]  \n",
    "categorical_features_train = X_train.iloc[:, 6:]\n",
    "categorical_features_test = X_test.iloc[:, 6:]\n",
    "\n",
    "# Scale the continuous features\n",
    "scaler = StandardScaler()\n",
    "continuous_features_train_scaled = scaler.fit_transform(continuous_features_train)\n",
    "continuous_features_test_scaled = scaler.transform(continuous_features_test)\n",
    "\n",
    "# Combine back scaled continuous features and categorical features\n",
    "X_train_scaled = np.concatenate([continuous_features_train_scaled, categorical_features_train.values], axis=1)\n",
    "X_test_scaled = np.concatenate([continuous_features_test_scaled, categorical_features_test.values], axis=1)\n",
    "\n",
    "\n",
    "attributeNames = list(continuous_features_train.columns) + list(categorical_features_train.columns)\n",
    "print(attributeNames)\n",
    "\n",
    "\n",
    "# Scale the target\n",
    "target_scaler = StandardScaler()\n",
    "y_train_scaled = target_scaler.fit_transform(y_train.reshape(-1, 1))\n",
    "y_test_scaled = target_scaler.transform(y_test.reshape(-1, 1))\n",
    "\n",
    "X_train_tensor = torch.FloatTensor(X_train_scaled)\n",
    "y_train_tensor = torch.FloatTensor(y_train_scaled)\n",
    "X_test_tensor = torch.FloatTensor(X_test_scaled)\n",
    "y_test_tensor = torch.FloatTensor(y_test_scaled)\n"
   ]
  },
  {
   "cell_type": "markdown",
   "metadata": {},
   "source": [
    "###  Two-Level Cross-Validation Model\n",
    "\n",
    "K1 = outer loop, \n",
    "K2 = inner loop, \n",
    "h = no. of hidden neurons\n",
    "\n",
    "Uses a cross-validation approach to find the best ANN model via finding the best h (number of hidden neurons).\n"
   ]
  },
  {
   "cell_type": "code",
   "execution_count": 204,
   "metadata": {},
   "outputs": [],
   "source": [
    "# ANN Model\n",
    "\n",
    "# Define variables\n",
    "K1 = 10\n",
    "K2 = 10\n",
    "\n",
    "class ANN(nn.Module):\n",
    "    def __init__(self, input_dim, h):\n",
    "        super(ANN, self).__init__()\n",
    "        self.layer1 = nn.Linear(input_dim, h)\n",
    "        self.layer2 = nn.Linear(h,h)\n",
    "        self.output_layer = nn.Linear(h, 1)\n",
    "\n",
    "    def forward(self, x):\n",
    "        x = F.relu(self.layer1(x))\n",
    "        x = F.relu(self.layer2(x))\n",
    "        x = self.output_layer(x)\n",
    "        return x\n",
    "    \n",
    "def cross_validation(X_tensor, y_tensor, K1=10, K2=10, h_range=20):\n",
    "\n",
    "    outer_cv = KFold(n_splits=K1, shuffle=True, random_state=42)\n",
    "    inner_cv = KFold(n_splits=K2, shuffle=True, random_state=42)\n",
    "\n",
    "    test_results =[]\n",
    "    inner_errors = []\n",
    "\n",
    "    # Outer Loop\n",
    "    for i, (train_idx, test_idx) in enumerate(outer_cv.split(X_tensor)):\n",
    "        X_train, X_test = X_tensor[train_idx], X_tensor[test_idx]\n",
    "        y_train, y_test = y_tensor[train_idx], y_tensor[test_idx]\n",
    "\n",
    "        best_h = None\n",
    "        #best_lambda = None\n",
    "        best_model = None\n",
    "        lowest_error = float('inf')\n",
    "\n",
    "        # Inner Loop\n",
    "        for h in range(1, h_range + 1): # onyl try up to 20 hidden neurons\n",
    "            inner_errors_for_fold = []\n",
    "\n",
    "            for train_idx_in, val_idx in inner_cv.split(X_train):\n",
    "                X_train_inner, X_val = X_train[train_idx_in], X_train[val_idx]\n",
    "                y_train_inner, y_val = y_train[train_idx_in], y_train[val_idx]\n",
    "\n",
    "                # Define model based on h  \n",
    "                model = ANN(X_train_inner.shape[1], h)\n",
    "                optimizer = optim.Adam(model.parameters(), lr=0.01)\n",
    "                criterion = nn.MSELoss()\n",
    "\n",
    "                # Training phase\n",
    "                for epoch in range(100):\n",
    "                    model.train()\n",
    "                    optimizer.zero_grad()\n",
    "                    outputs = model(X_train_inner)\n",
    "                    loss = criterion(outputs, y_train_inner)\n",
    "                    loss.backward()\n",
    "                    optimizer.step()\n",
    "                \n",
    "\n",
    "                # Evaluation phase\n",
    "                model.eval()\n",
    "                with torch.no_grad():\n",
    "                    val_outputs = model(X_val)\n",
    "                    #val_loss = criterion(val_outputs, y_val)\n",
    "                    val_error = mean_squared_error(y_val.numpy(), val_outputs.numpy())\n",
    "                    inner_errors_for_fold.append(val_error)\n",
    "                \n",
    "            \n",
    "            # Find best h for this fold\n",
    "            avg_inner_error = np.mean(inner_errors_for_fold)\n",
    "            if avg_inner_error < lowest_error: \n",
    "                lowest_error = avg_inner_error\n",
    "                best_h = h\n",
    "                \n",
    "                    \n",
    "\n",
    "        # Evaluate the best model based on best h\n",
    "        best_model = ANN(X_train.shape[1], best_h)\n",
    "        optimizer = optim.Adam(best_model.parameters(), lr=0.001)\n",
    "        criterion = nn.MSELoss()\n",
    "        for epoch in range(100):\n",
    "            best_model.train()\n",
    "            optimizer.zero_grad()\n",
    "            outputs = best_model(X_train)\n",
    "            loss = criterion(outputs, y_train)\n",
    "            loss.backward()\n",
    "            optimizer.step()\n",
    "\n",
    "        best_model.eval()\n",
    "        with torch.no_grad():\n",
    "            test_outputs = best_model(X_test)\n",
    "            test_error = mean_squared_error(y_test.numpy(), test_outputs.numpy())\n",
    "\n",
    "        test_results.append((i+1, best_h, test_error))\n",
    "    \n",
    "    return test_results"
   ]
  },
  {
   "cell_type": "markdown",
   "metadata": {},
   "source": [
    "### Results\n",
    "\n",
    "perform cross validation on train set to determine the best h"
   ]
  },
  {
   "cell_type": "code",
   "execution_count": 221,
   "metadata": {},
   "outputs": [
    {
     "name": "stdout",
     "output_type": "stream",
     "text": [
      "Fold 1 | Best h: 13 | Test MSE: 0.1232\n",
      "Fold 2 | Best h: 17 | Test MSE: 0.1003\n",
      "Fold 3 | Best h: 14 | Test MSE: 0.1121\n",
      "Fold 4 | Best h: 17 | Test MSE: 0.2313\n",
      "Fold 5 | Best h: 17 | Test MSE: 0.1919\n",
      "Fold 6 | Best h: 20 | Test MSE: 0.1099\n",
      "Fold 7 | Best h: 14 | Test MSE: 0.0912\n",
      "Fold 8 | Best h: 17 | Test MSE: 0.1693\n",
      "Fold 9 | Best h: 17 | Test MSE: 0.1826\n",
      "Fold 10 | Best h: 18 | Test MSE: 0.3063\n"
     ]
    }
   ],
   "source": [
    "results = cross_validation(X_train_tensor, y_train_tensor)\n",
    "for result in results:\n",
    "    print(f\"Fold {result[0]} | Best h: {result[1]} | Test MSE: {result[2]:.4f}\")\n"
   ]
  },
  {
   "cell_type": "code",
   "execution_count": 226,
   "metadata": {},
   "outputs": [
    {
     "data": {
      "image/png": "[encoded data removed]",
      "text/plain": [
       "<Figure size 600x400 with 1 Axes>"
      ]
     },
     "metadata": {},
     "output_type": "display_data"
    }
   ],
   "source": [
    "# Extract the h values from the results\n",
    "h_values = [result[1] for result in results]\n",
    "\n",
    "\n",
    "# Plot the histogram for the frequency plot of h\n",
    "plt.figure(figsize=(6,4))\n",
    "plt.hist(h_values, bins=20, edgecolor='black', alpha=0.7)\n",
    "plt.xticks(range(int(min(h_values))-1, int(max(h_values))+2, 1))\n",
    "plt.xlabel('h')\n",
    "plt.ylabel('Frequency')\n",
    "plt.title('Frequency Plot for Number h')\n",
    "plt.show()"
   ]
  },
  {
   "cell_type": "markdown",
   "metadata": {},
   "source": [
    "Train the final model using the best h on the entire training data"
   ]
  },
  {
   "cell_type": "code",
   "execution_count": null,
   "metadata": {},
   "outputs": [
    {
     "name": "stdout",
     "output_type": "stream",
     "text": [
      "Test MSE: 0.1660\n"
     ]
    }
   ],
   "source": [
    "best_h = max(set([result[1] for result in results]), key=[result[1] for result in results].count)\n",
    "final_model = ANN(X_train_tensor.shape[1], best_h)\n",
    "optimizer = optim.Adam(final_model.parameters(), lr=0.001)\n",
    "criterion = nn.MSELoss()\n",
    " \n",
    "for epoch in range(100): \n",
    "    final_model.train()\n",
    "    optimizer.zero_grad()\n",
    "    outputs = final_model(X_train_tensor)\n",
    "    loss = criterion(outputs, y_train_tensor)\n",
    "    loss.backward()\n",
    "    optimizer.step()\n",
    "\n",
    "# Evaluate on the test data\n",
    "final_model.eval()\n",
    "with torch.no_grad():\n",
    "    test_outputs = final_model(X_test_tensor)\n",
    "    test_error = mean_squared_error(y_test_tensor.numpy(), test_outputs.numpy())\n",
    "    print(f\"Test MSE: {test_error:.4f}\")"
   ]
  },
  {
   "cell_type": "markdown",
   "metadata": {},
   "source": [
    "Regression Plot to assess how well the model predictions match with the actual data."
   ]
  },
  {
   "cell_type": "code",
   "execution_count": 230,
   "metadata": {},
   "outputs": [
    {
     "data": {
      "image/png": "[encoded data removed]",
      "text/plain": [
       "<Figure size 1000x600 with 1 Axes>"
      ]
     },
     "metadata": {},
     "output_type": "display_data"
    }
   ],
   "source": [
    "actual = y_test_tensor.numpy().flatten()  # Flatten to ensure it's a 1D array\n",
    "predicted = test_outputs.numpy().flatten()\n",
    "\n",
    "# Scatter plot\n",
    "plt.figure(figsize=(10, 6))\n",
    "plt.scatter(actual, predicted, alpha=0.5, color='red')\n",
    "plt.title('Actual vs. Predicted Values')\n",
    "plt.xlabel('Actual Values')\n",
    "plt.ylabel('Predicted Values')\n",
    "\n",
    "# Find best fit line (regression line)\n",
    "m, b = np.polyfit(actual, predicted, 1)\n",
    "plt.plot(actual, m*actual + b, color='blue', label=f'Best Fit (y={m:.2f}x+{b:.2f})')\n",
    "plt.legend()\n",
    "\n",
    "# Draw a line of perfect predictions\n",
    "plt.plot([actual.min(), actual.max()], [actual.min(), actual.max()], 'green', lw=2, linestyle='--', label='Perfect Fit')\n",
    "plt.grid(True)\n",
    "plt.legend()\n",
    "\n",
    "plt.show()"
   ]
  }
 ],
 "metadata": {
  "kernelspec": {
   "display_name": "base",
   "language": "python",
   "name": "python3"
  },
  "language_info": {
   "codemirror_mode": {
    "name": "ipython",
    "version": 3
   },
   "file_extension": ".py",
   "mimetype": "text/x-python",
   "name": "python",
   "nbconvert_exporter": "python",
   "pygments_lexer": "ipython3",
   "version": "3.12.4"
  }
 },
 "nbformat": 4,
 "nbformat_minor": 2
}
